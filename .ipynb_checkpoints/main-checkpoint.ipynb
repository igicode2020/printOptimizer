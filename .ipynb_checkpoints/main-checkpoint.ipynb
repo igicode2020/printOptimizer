{
 "cells": [
  {
   "cell_type": "markdown",
   "id": "33d289b5",
   "metadata": {},
   "source": [
    "# Print Job Scheduling Optimization with Pyomo and Simulated ML\n",
    "This notebook demonstrates how to use Pyomo for print job scheduling, with simulated ML-based print time prediction."
   ]
  },
  {
   "cell_type": "code",
   "execution_count": 29,
   "id": "380dd384",
   "metadata": {},
   "outputs": [],
   "source": [
    "import json\n",
    "from pyomo.environ import *\n",
    "from datetime import timedelta\n",
    "import random"
   ]
  },
  {
   "cell_type": "code",
   "execution_count": 30,
   "id": "699e2139",
   "metadata": {},
   "outputs": [],
   "source": [
    "with open('printers.json', 'r') as f:\n",
    "    printers = json.load(f)\n",
    "\n",
    "with open('models.json', 'r') as f:\n",
    "    models = json.load(f)\n",
    "\n",
    "with open('task.txt', 'r') as f:\n",
    "    task_list = [line.strip() for line in f if line.strip()]"
   ]
  },
  {
   "cell_type": "code",
   "execution_count": 31,
   "id": "8af328d4",
   "metadata": {},
   "outputs": [],
   "source": [
    "def parse_time(timestr):\n",
    "    h, m, s = map(int, timestr.split(':'))\n",
    "    return h + m/60 + s/3600\n",
    "\n",
    "def predict_print_time_ml(model_info):\n",
    "    base = len(model_info.get('model_name', ''))\n",
    "    return max(0.5, base * 0.2 + random.uniform(-0.2, 0.2))"
   ]
  },
  {
   "cell_type": "code",
   "execution_count": 32,
   "id": "c706f35b",
   "metadata": {},
   "outputs": [],
   "source": [
    "jobs = []\n",
    "for idx, model_id in enumerate(task_list):\n",
    "    model_info = next((m for m in models if m['file_id'] == model_id), None)\n",
    "    if model_info:\n",
    "        print_time = predict_print_time_ml(model_info)\n",
    "        jobs.append({'job_id': idx, 'model_id': model_id, 'model': model_info, 'print_time': print_time})\n",
    "    else:\n",
    "        raise ValueError(f\"Model ID {model_id} not found in models.json\")\n",
    "\n",
    "printer_ids = [p['name'] for p in printers]\n",
    "job_ids = [j['job_id'] for j in jobs]"
   ]
  },
  {
   "cell_type": "code",
   "execution_count": 33,
   "id": "86121693",
   "metadata": {},
   "outputs": [],
   "source": [
    "model = ConcreteModel()\n",
    "model.P = RangeSet(0, len(printer_ids)-1)\n",
    "model.J = RangeSet(0, len(jobs)-1)\n",
    "\n",
    "model.x = Var(model.J, model.P, domain=Binary)\n",
    "model.s = Var(model.J, domain=NonNegativeReals)\n",
    "model.Cmax = Var(domain=NonNegativeReals)"
   ]
  },
  {
   "cell_type": "code",
   "execution_count": 34,
   "id": "5eb06c04",
   "metadata": {},
   "outputs": [],
   "source": [
    "def printer_supports_material(printer, required_material):\n",
    "    if isinstance(required_material, list):\n",
    "        return any(m['type'] in required_material for m in printer['materials'])\n",
    "    else:\n",
    "        return any(m['type'] == required_material for m in printer['materials'])"
   ]
  },
  {
   "cell_type": "code",
   "execution_count": 35,
   "id": "501d3f9c",
   "metadata": {},
   "outputs": [],
   "source": [
    "model.compatible = ConstraintList()\n",
    "for j in range(len(jobs)):\n",
    "    compatible = jobs[j]['model']['compatible_printers']\n",
    "    required_material = jobs[j]['model']['material']\n",
    "    for p in range(len(printer_ids)):\n",
    "        printer = printers[p]\n",
    "        if printer.get('model_name') not in compatible or not printer_supports_material(printer, required_material):\n",
    "            model.compatible.add(model.x[j, p] == 0)"
   ]
  },
  {
   "cell_type": "code",
   "execution_count": 36,
   "id": "02f85c7f",
   "metadata": {},
   "outputs": [],
   "source": [
    "model.job_assign = ConstraintList()\n",
    "for j in range(len(jobs)):\n",
    "    model.job_assign.add(sum(model.x[j,p] for p in range(len(printer_ids))) == 1)"
   ]
  },
  {
   "cell_type": "code",
   "execution_count": 37,
   "id": "e9e5c3aa",
   "metadata": {},
   "outputs": [],
   "source": [
    "model.no_overlap = ConstraintList()\n",
    "for p in range(len(printer_ids)):\n",
    "    for j1 in range(len(jobs)):\n",
    "        for j2 in range(len(jobs)):\n",
    "            if j1 < j2:\n",
    "                M = 1e6\n",
    "                t1 = jobs[j1]['print_time']\n",
    "                t2 = jobs[j2]['print_time']\n",
    "                model.no_overlap.add(\n",
    "                    model.s[j1] + t1 <= model.s[j2] + M*(2 - model.x[j1,p] - model.x[j2,p])\n",
    "                )\n",
    "                model.no_overlap.add(\n",
    "                    model.s[j2] + t2 <= model.s[j1] + M*(2 - model.x[j1,p] - model.x[j2,p])\n",
    "                )"
   ]
  },
  {
   "cell_type": "code",
   "execution_count": 38,
   "id": "41e30170",
   "metadata": {},
   "outputs": [],
   "source": [
    "model.makespan = ConstraintList()\n",
    "for j in range(len(jobs)):\n",
    "    t = jobs[j]['print_time']\n",
    "    model.makespan.add(model.Cmax >= model.s[j] + t)"
   ]
  },
  {
   "cell_type": "code",
   "execution_count": 39,
   "id": "f0e172a7",
   "metadata": {},
   "outputs": [],
   "source": [
    "model.obj = Objective(expr=model.Cmax, sense=minimize)"
   ]
  },
  {
   "cell_type": "code",
   "execution_count": 40,
   "id": "b9bfba3e",
   "metadata": {},
   "outputs": [],
   "source": [
    "for j in range(len(jobs)):\n",
    "    compatible = jobs[j]['model']['compatible_printers']\n",
    "    required_material = jobs[j]['model']['material']\n",
    "    found = False\n",
    "    for p, printer in enumerate(printers):\n",
    "        if printer.get('model_name') in compatible:\n",
    "            if any(m['type'] == required_material or (isinstance(required_material, list) and m['type'] in required_material) for m in printer['materials']):\n",
    "                found = True\n",
    "    if not found:\n",
    "        print(f\"WARNING: No compatible printer found for job {j} (model_id={jobs[j]['model_id']}) with compatible_printers={compatible} and required_material={required_material}\")"
   ]
  },
  {
   "cell_type": "code",
   "execution_count": 41,
   "id": "5458beb7",
   "metadata": {},
   "outputs": [],
   "source": [
    "solver = SolverFactory('highs')\n",
    "solver.config.load_solutions = False\n",
    "result = solver.solve(model, tee=False)\n",
    "\n",
    "printer_job_map = {pid: [] for pid in printer_ids}\n",
    "for j in range(len(jobs)):\n",
    "    for p in range(len(printer_ids)):\n",
    "        if value(model.x[j, p]) > 0.5:\n",
    "            printer_job_map[printer_ids[p]].append(jobs[j]['model_id'])\n",
    "with open('result.txt', 'w') as f:\n",
    "    for printer in printer_ids:\n",
    "        f.write(f\"{printer}:\\n\")\n",
    "        for job in printer_job_map[printer]:\n",
    "            f.write(f\"  {job}\\n\")"
   ]
  },
  {
   "cell_type": "markdown",
   "id": "fac078b1",
   "metadata": {},
   "source": [
    "<h2>Add Imports</h2>"
   ]
  },
  {
   "cell_type": "code",
   "execution_count": 42,
   "id": "91aff159",
   "metadata": {},
   "outputs": [],
   "source": [
    "import json\n",
    "from pyomo.environ import *\n",
    "from datetime import timedelta\n",
    "import random"
   ]
  },
  {
   "cell_type": "markdown",
   "id": "e570d3a3",
   "metadata": {},
   "source": [
    "<h2>Formatting the Data & Preparing all Printing Jobs</h2>"
   ]
  },
  {
   "cell_type": "code",
   "execution_count": 43,
   "id": "1dbd26c2",
   "metadata": {},
   "outputs": [],
   "source": [
    "with open('printers.json', 'r') as f:\n",
    "    printers = json.load(f)\n",
    "\n",
    "with open('models.json', 'r') as f:\n",
    "    models = json.load(f)\n",
    "\n",
    "with open('task.txt', 'r') as f:\n",
    "    task_list = [line.strip() for line in f if line.strip()]\n",
    "\n",
    "def parse_time(timestr):\n",
    "    h, m, s = map(int, timestr.split(':'))\n",
    "    return h + m/60 + s/3600\n",
    "\n",
    "def predict_print_time_ml(model_info):\n",
    "    base = len(model_info.get('model_name', ''))\n",
    "    return max(0.5, base * 0.2 + random.uniform(-0.2, 0.2))\n",
    "\n",
    "jobs = []\n",
    "for idx, model_id in enumerate(task_list):\n",
    "    model_info = next((m for m in models if m['file_id'] == model_id), None)\n",
    "    if model_info:\n",
    "        print_time = predict_print_time_ml(model_info)\n",
    "        jobs.append({'job_id': idx, 'model_id': model_id, 'model': model_info, 'print_time': print_time})\n",
    "    else:\n",
    "        raise ValueError(f\"Model ID {model_id} not found in models.json\")\n",
    "\n",
    "printer_ids = [p['name'] for p in printers]\n",
    "job_ids = [j['job_id'] for j in jobs]"
   ]
  },
  {
   "cell_type": "markdown",
   "id": "dbd92cb1",
   "metadata": {},
   "source": [
    "<h2>Create Pyomo Model</h2>"
   ]
  },
  {
   "cell_type": "markdown",
   "id": "654a7e68",
   "metadata": {},
   "source": [
    "Create Model and Sets within it"
   ]
  },
  {
   "cell_type": "code",
   "execution_count": 44,
   "id": "b01c2cae",
   "metadata": {},
   "outputs": [],
   "source": [
    "model = ConcreteModel()\n",
    "model.P = RangeSet(0, len(printer_ids)-1) # Set of printers\n",
    "model.J = RangeSet(0, len(jobs)-1)       # Set of jobs\n"
   ]
  },
  {
   "cell_type": "markdown",
   "id": "a19f0437",
   "metadata": {},
   "source": [
    "Define Decisions and their Values"
   ]
  },
  {
   "cell_type": "code",
   "execution_count": 45,
   "id": "1b4e1df6",
   "metadata": {},
   "outputs": [],
   "source": [
    "model.x = Var(model.J, model.P, domain=Binary) # x[j,p] = 1 if job j is assigned to printer p, 0 otherwise\n",
    "model.s = Var(model.J, domain=NonNegativeReals) # s[j] = start time of job j\n",
    "model.Cmax = Var(domain=NonNegativeReals)      # Cmax = makespan (completion time of the last job)\n"
   ]
  },
  {
   "cell_type": "markdown",
   "id": "b45dc596",
   "metadata": {},
   "source": [
    "<h3>Defining the Constraints</h3>"
   ]
  },
  {
   "cell_type": "markdown",
   "id": "2c21646a",
   "metadata": {},
   "source": [
    "<h4>Material Compability Function</h4>"
   ]
  },
  {
   "cell_type": "code",
   "execution_count": 46,
   "id": "9bf02271",
   "metadata": {},
   "outputs": [],
   "source": [
    "def printer_supports_material(printer, required_material):\n",
    "    if isinstance(required_material, list):\n",
    "        return any(m['type'] in required_material for m in printer['materials'])\n",
    "    else:\n",
    "        return any(m['type'] == required_material for m in printer['materials'])"
   ]
  },
  {
   "cell_type": "markdown",
   "id": "29422240",
   "metadata": {},
   "source": [
    "<h4>Add Printer & Material Constraints</h4>"
   ]
  },
  {
   "cell_type": "code",
   "execution_count": 47,
   "id": "f8c60990",
   "metadata": {},
   "outputs": [],
   "source": [
    "model.compatible = ConstraintList()\n",
    "for j in range(len(jobs)):\n",
    "    compatible_printers_for_model = jobs[j]['model']['compatible_printers']\n",
    "    required_material = jobs[j]['model']['material']\n",
    "    for p in range(len(printer_ids)):\n",
    "        printer = printers[p]\n",
    "        # Check if the printer name is in the compatible list AND if the printer supports the required material\n",
    "        if printer['name'] not in compatible_printers_for_model or not printer_supports_material(printer, required_material):\n",
    "            model.compatible.add(model.x[j, p] == 0) # If not compatible, assignment must be 0\n"
   ]
  },
  {
   "cell_type": "markdown",
   "id": "0b331790",
   "metadata": {},
   "source": [
    "<h4>Add constraint for one job per printer per time</h4>\n",
    "<p>Avoids multiple print jobs at once, makes sure that if there are multiple there's a quene and that this should be avoided when possible</p>"
   ]
  },
  {
   "cell_type": "code",
   "execution_count": 48,
   "id": "db713800",
   "metadata": {},
   "outputs": [],
   "source": [
    "model.job_assign = ConstraintList()\n",
    "for j in range(len(jobs)):\n",
    "    model.job_assign.add(sum(model.x[j,p] for p in range(len(printer_ids))) == 1)"
   ]
  },
  {
   "cell_type": "code",
   "execution_count": 59,
   "id": "c57e661b",
   "metadata": {},
   "outputs": [
    {
     "name": "stdout",
     "output_type": "stream",
     "text": [
      "WARNING: Implicitly replacing the Component attribute no_overlap (type=<class\n",
      "'pyomo.core.base.constraint.ConstraintList'>) on block unknown with a new\n",
      "Component (type=<class 'pyomo.core.base.constraint.ConstraintList'>). This is\n",
      "usually indicative of a modelling error. To avoid this warning, use\n",
      "block.del_component() and block.add_component().\n"
     ]
    }
   ],
   "source": [
    "model.no_overlap = ConstraintList()\n",
    "for p in range(len(printer_ids)):\n",
    "    for j1 in range(len(jobs)):\n",
    "        for j2 in range(len(jobs)):\n",
    "            if j1 < j2:\n",
    "                M = 1e6 \n",
    "                t1 = jobs[j1]['print_time']\n",
    "                t2 = jobs[j2]['print_time']\n",
    "                #If both jobs j1 and j2 are assigned to printer p then they cannot overlap\n",
    "                #Either j1 finishes before j2 starts or j2 finishes before j1 starts\n",
    "                #This is enforced by using a binary variable to turn off the constraint\n",
    "                #if either j1 or j2 (or both) are not assigned to printer p\n",
    "                model.no_overlap.add(\n",
    "                    model.s[j1] + t1 <= model.s[j2] + M*(2 - model.x[j1,p] - model.x[j2,p])\n",
    "                )\n",
    "                model.no_overlap.add(\n",
    "                    model.s[j2] + t2 <= model.s[j1] + M*(2 - model.x[j1,p] - model.x[j2,p])\n",
    "                )"
   ]
  },
  {
   "cell_type": "markdown",
   "id": "25f660d0",
   "metadata": {},
   "source": [
    "Determining the Actuall Completion Time"
   ]
  },
  {
   "cell_type": "code",
   "execution_count": null,
   "id": "84d526b8",
   "metadata": {},
   "outputs": [],
   "source": [
    "model.makespan = ConstraintList()\n",
    "for j in range(len(jobs)):\n",
    "    t = jobs[j]['print_time']\n",
    "    model.makespan.add(model.Cmax >= model.s[j] + t)"
   ]
  },
  {
   "cell_type": "code",
   "execution_count": null,
   "id": "b090ee4c",
   "metadata": {},
   "outputs": [],
   "source": [
    "model.obj = Objective(expr=model.Cmax, sense=minimize) "
   ]
  },
  {
   "cell_type": "markdown",
   "id": "3d03f5eb",
   "metadata": {},
   "source": [
    "<h2>Solving the Opimization Problem</h2>"
   ]
  },
  {
   "cell_type": "markdown",
   "id": "73769e22",
   "metadata": {},
   "source": [
    "Checks if there is a lack of compatibility initally, was having issues with this so I figured having a function to check before would be best"
   ]
  },
  {
   "cell_type": "code",
   "execution_count": null,
   "id": "8011a84a",
   "metadata": {},
   "outputs": [
    {
     "name": "stdout",
     "output_type": "stream",
     "text": [
      "WARNING: No compatible printer found for job 0 (model_id=a1b2c3d4-e5f6-7890-1234-567890abcdef) with compatible_printers=['Prusa i3 MK3S+'] and required_material=PLA\n",
      "WARNING: No compatible printer found for job 1 (model_id=f0e9d8c7-b6a5-4321-fedc-ba9876543210) with compatible_printers=['Ender 3 V2'] and required_material=PLA\n",
      "WARNING: No compatible printer found for job 2 (model_id=1a2b3c4d-5e6f-7080-90a0-b0c0d0e0f0g0) with compatible_printers=['Anycubic Photon Mono X'] and required_material=Resin\n",
      "WARNING: No compatible printer found for job 3 (model_id=abcdef01-2345-6789-abcd-ef0123456789) with compatible_printers=['LulzBot TAZ 6'] and required_material=ABS\n"
     ]
    }
   ],
   "source": [
    "for j in range(len(jobs)):\n",
    "    compatible = jobs[j]['model']['compatible_printers']\n",
    "    required_material = jobs[j]['model']['material']\n",
    "    found = False\n",
    "    for p, printer in enumerate(printers):\n",
    "        if printer['name'] in compatible: \n",
    "            if any(m['type'] == required_material or (isinstance(required_material, list) and m['type'] in required_material) for m in printer['materials']):\n",
    "                found = True\n",
    "                break \n",
    "    if not found:\n",
    "        print(f\"WARNING: No compatible printer found for job {j} (model_id={jobs[j]['model_id']}) with compatible_printers={compatible} and required_material={required_material}\")\n"
   ]
  },
  {
   "cell_type": "markdown",
   "id": "6a4adf16",
   "metadata": {},
   "source": [
    "Running the solver (A solution can be found even if there isn't technically a feasible solution, this is because there isn't enough data in order to create an \"optimal solution\" or multiple of the same are possible. This can happen if multiple files can be printed in different orders or with different printers and still achieve the same time.):"
   ]
  },
  {
   "cell_type": "code",
   "execution_count": 57,
   "id": "12f47fc0",
   "metadata": {},
   "outputs": [
    {
     "ename": "NoFeasibleSolutionError",
     "evalue": "A feasible solution was not found, so no solution can be loaded. Please set opt.config.load_solutions=False and check results.solution_status and results.incumbent_objective before loading a solution.",
     "output_type": "error",
     "traceback": [
      "\u001b[1;31m---------------------------------------------------------------------------\u001b[0m",
      "\u001b[1;31mNoFeasibleSolutionError\u001b[0m                   Traceback (most recent call last)",
      "Cell \u001b[1;32mIn[57], line 3\u001b[0m\n\u001b[0;32m      1\u001b[0m solver \u001b[38;5;241m=\u001b[39m SolverFactory(\u001b[38;5;124m'\u001b[39m\u001b[38;5;124mhighs\u001b[39m\u001b[38;5;124m'\u001b[39m)\n\u001b[0;32m      2\u001b[0m solver\u001b[38;5;241m.\u001b[39mconfig\u001b[38;5;241m.\u001b[39mload_solutions \u001b[38;5;241m=\u001b[39m \u001b[38;5;28;01mTrue\u001b[39;00m\n\u001b[1;32m----> 3\u001b[0m result \u001b[38;5;241m=\u001b[39m \u001b[43msolver\u001b[49m\u001b[38;5;241;43m.\u001b[39;49m\u001b[43msolve\u001b[49m\u001b[43m(\u001b[49m\u001b[43mmodel\u001b[49m\u001b[43m,\u001b[49m\u001b[43m \u001b[49m\u001b[43mtee\u001b[49m\u001b[38;5;241;43m=\u001b[39;49m\u001b[38;5;28;43;01mFalse\u001b[39;49;00m\u001b[43m)\u001b[49m \n",
      "File \u001b[1;32m~\\AppData\\Local\\Packages\\PythonSoftwareFoundation.Python.3.12_qbz5n2kfra8p0\\LocalCache\\local-packages\\Python312\\site-packages\\pyomo\\contrib\\solver\\common\\base.py:634\u001b[0m, in \u001b[0;36mLegacySolverWrapper.solve\u001b[1;34m(self, model, tee, load_solutions, logfile, solnfile, timelimit, report_timing, solver_io, suffixes, options, keepfiles, symbolic_solver_labels, raise_exception_on_nonoptimal_result, solver_options, writer_config)\u001b[0m\n\u001b[0;32m    631\u001b[0m filtered_args \u001b[38;5;241m=\u001b[39m {k: loc[k] \u001b[38;5;28;01mfor\u001b[39;00m k \u001b[38;5;129;01min\u001b[39;00m map_args \u001b[38;5;28;01mif\u001b[39;00m loc\u001b[38;5;241m.\u001b[39mget(k, \u001b[38;5;28;01mNone\u001b[39;00m) \u001b[38;5;129;01mis\u001b[39;00m \u001b[38;5;129;01mnot\u001b[39;00m \u001b[38;5;28;01mNone\u001b[39;00m}\n\u001b[0;32m    632\u001b[0m \u001b[38;5;28mself\u001b[39m\u001b[38;5;241m.\u001b[39m_map_config(\u001b[38;5;241m*\u001b[39m\u001b[38;5;241m*\u001b[39mfiltered_args)\n\u001b[1;32m--> 634\u001b[0m results: Results \u001b[38;5;241m=\u001b[39m \u001b[38;5;28;43msuper\u001b[39;49m\u001b[43m(\u001b[49m\u001b[43m)\u001b[49m\u001b[38;5;241;43m.\u001b[39;49m\u001b[43msolve\u001b[49m\u001b[43m(\u001b[49m\u001b[43mmodel\u001b[49m\u001b[43m)\u001b[49m\n\u001b[0;32m    635\u001b[0m legacy_results, legacy_soln \u001b[38;5;241m=\u001b[39m \u001b[38;5;28mself\u001b[39m\u001b[38;5;241m.\u001b[39m_map_results(model, results)\n\u001b[0;32m    636\u001b[0m legacy_results \u001b[38;5;241m=\u001b[39m \u001b[38;5;28mself\u001b[39m\u001b[38;5;241m.\u001b[39m_solution_handler(\n\u001b[0;32m    637\u001b[0m     load_solutions, model, results, legacy_results, legacy_soln\n\u001b[0;32m    638\u001b[0m )\n",
      "File \u001b[1;32m~\\AppData\\Local\\Packages\\PythonSoftwareFoundation.Python.3.12_qbz5n2kfra8p0\\LocalCache\\local-packages\\Python312\\site-packages\\pyomo\\contrib\\solver\\common\\persistent.py:529\u001b[0m, in \u001b[0;36mPersistentSolverMixin.solve\u001b[1;34m(self, model, **kwds)\u001b[0m\n\u001b[0;32m    526\u001b[0m     \u001b[38;5;28mself\u001b[39m\u001b[38;5;241m.\u001b[39mupdate(timer\u001b[38;5;241m=\u001b[39mtimer)\n\u001b[0;32m    527\u001b[0m     timer\u001b[38;5;241m.\u001b[39mstop(\u001b[38;5;124m'\u001b[39m\u001b[38;5;124mupdate\u001b[39m\u001b[38;5;124m'\u001b[39m)\n\u001b[1;32m--> 529\u001b[0m res \u001b[38;5;241m=\u001b[39m \u001b[38;5;28;43mself\u001b[39;49m\u001b[38;5;241;43m.\u001b[39;49m\u001b[43m_solve\u001b[49m\u001b[43m(\u001b[49m\u001b[43m)\u001b[49m\n\u001b[0;32m    530\u001b[0m \u001b[38;5;28mself\u001b[39m\u001b[38;5;241m.\u001b[39m_last_results_object \u001b[38;5;241m=\u001b[39m res\n\u001b[0;32m    532\u001b[0m end_timestamp \u001b[38;5;241m=\u001b[39m datetime\u001b[38;5;241m.\u001b[39mdatetime\u001b[38;5;241m.\u001b[39mnow(datetime\u001b[38;5;241m.\u001b[39mtimezone\u001b[38;5;241m.\u001b[39mutc)\n",
      "File \u001b[1;32m~\\AppData\\Local\\Packages\\PythonSoftwareFoundation.Python.3.12_qbz5n2kfra8p0\\LocalCache\\local-packages\\Python312\\site-packages\\pyomo\\contrib\\solver\\solvers\\highs.py:195\u001b[0m, in \u001b[0;36mHighs._solve\u001b[1;34m(self)\u001b[0m\n\u001b[0;32m    192\u001b[0m     \u001b[38;5;28mself\u001b[39m\u001b[38;5;241m.\u001b[39m_solver_model\u001b[38;5;241m.\u001b[39mrun()\n\u001b[0;32m    193\u001b[0m     timer\u001b[38;5;241m.\u001b[39mstop(\u001b[38;5;124m'\u001b[39m\u001b[38;5;124moptimize\u001b[39m\u001b[38;5;124m'\u001b[39m)\n\u001b[1;32m--> 195\u001b[0m \u001b[38;5;28;01mreturn\u001b[39;00m \u001b[38;5;28;43mself\u001b[39;49m\u001b[38;5;241;43m.\u001b[39;49m\u001b[43m_postsolve\u001b[49m\u001b[43m(\u001b[49m\u001b[43m)\u001b[49m\n",
      "File \u001b[1;32m~\\AppData\\Local\\Packages\\PythonSoftwareFoundation.Python.3.12_qbz5n2kfra8p0\\LocalCache\\local-packages\\Python312\\site-packages\\pyomo\\contrib\\solver\\solvers\\highs.py:616\u001b[0m, in \u001b[0;36mHighs._postsolve\u001b[1;34m(self)\u001b[0m\n\u001b[0;32m    614\u001b[0m         \u001b[38;5;28mself\u001b[39m\u001b[38;5;241m.\u001b[39m_load_vars()\n\u001b[0;32m    615\u001b[0m     \u001b[38;5;28;01melse\u001b[39;00m:\n\u001b[1;32m--> 616\u001b[0m         \u001b[38;5;28;01mraise\u001b[39;00m NoFeasibleSolutionError()\n\u001b[0;32m    617\u001b[0m timer\u001b[38;5;241m.\u001b[39mstop(\u001b[38;5;124m'\u001b[39m\u001b[38;5;124mload solution\u001b[39m\u001b[38;5;124m'\u001b[39m)\n\u001b[0;32m    619\u001b[0m \u001b[38;5;28;01mreturn\u001b[39;00m results\n",
      "\u001b[1;31mNoFeasibleSolutionError\u001b[0m: A feasible solution was not found, so no solution can be loaded. Please set opt.config.load_solutions=False and check results.solution_status and results.incumbent_objective before loading a solution."
     ]
    }
   ],
   "source": [
    "solver = SolverFactory('highs')\n",
    "solver.config.load_solutions = True\n",
    "result = solver.solve(model, tee=False) "
   ]
  },
  {
   "cell_type": "code",
   "execution_count": 58,
   "id": "dd4f0d03",
   "metadata": {},
   "outputs": [],
   "source": [
    "with open('printers.json', 'r') as f:\n",
    "    printers = json.load(f)\n",
    "\n",
    "with open('models.json', 'r') as f:\n",
    "    models = json.load(f)\n",
    "\n",
    "with open('task.txt', 'r') as f:\n",
    "    task_list = [line.strip() for line in f if line.strip()]\n",
    "\n",
    "def parse_time(timestr):\n",
    "    h, m, s = map(int, timestr.split(':'))\n",
    "    return h + m/60 + s/3600\n",
    "\n",
    "def predict_print_time_ml(model_info):\n",
    "    base = len(model_info.get('model_name', ''))\n",
    "    return max(0.5, base * 0.2 + random.uniform(-0.2, 0.2))\n",
    "\n",
    "jobs = []\n",
    "for idx, model_id in enumerate(task_list):\n",
    "    model_info = next((m for m in models if m['file_id'] == model_id), None)\n",
    "    if model_info:\n",
    "        print_time = predict_print_time_ml(model_info)\n",
    "        jobs.append({'job_id': idx, 'model_id': model_id, 'model': model_info, 'print_time': print_time})\n",
    "    else:\n",
    "        raise ValueError(f\"Model ID {model_id} not found in models.json\")\n",
    "\n",
    "printer_ids = [p['name'] for p in printers]\n",
    "job_ids = [j['job_id'] for j in jobs]"
   ]
  },
  {
   "cell_type": "code",
   "execution_count": null,
   "id": "4216b1ad",
   "metadata": {},
   "outputs": [],
   "source": []
  }
 ],
 "metadata": {
  "kernelspec": {
   "display_name": "Python 3",
   "language": "python",
   "name": "python3"
  },
  "language_info": {
   "codemirror_mode": {
    "name": "ipython",
    "version": 3
   },
   "file_extension": ".py",
   "mimetype": "text/x-python",
   "name": "python",
   "nbconvert_exporter": "python",
   "pygments_lexer": "ipython3",
   "version": "3.12.5"
  }
 },
 "nbformat": 4,
 "nbformat_minor": 5
}
