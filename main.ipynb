{
 "cells": [
  {
   "cell_type": "markdown",
   "id": "33d289b5",
   "metadata": {},
   "source": [
    "<h1>Printing Optimization with Pyomo and ML</h1>"
   ]
  },
  {
   "cell_type": "markdown",
   "id": "fac078b1",
   "metadata": {},
   "source": [
    "<h2>Add Imports</h2>"
   ]
  },
  {
   "cell_type": "code",
   "execution_count": 2,
   "id": "91aff159",
   "metadata": {},
   "outputs": [],
   "source": [
    "import json\n",
    "import pyomo\n",
    "import pandas as pd"
   ]
  },
  {
   "cell_type": "markdown",
   "id": "e570d3a3",
   "metadata": {},
   "source": [
    "<h2>Formatting the Data</h2>"
   ]
  },
  {
   "cell_type": "code",
   "execution_count": 11,
   "id": "1dbd26c2",
   "metadata": {},
   "outputs": [
    {
     "data": {
      "text/html": [
       "<div>\n",
       "<style scoped>\n",
       "    .dataframe tbody tr th:only-of-type {\n",
       "        vertical-align: middle;\n",
       "    }\n",
       "\n",
       "    .dataframe tbody tr th {\n",
       "        vertical-align: top;\n",
       "    }\n",
       "\n",
       "    .dataframe thead th {\n",
       "        text-align: right;\n",
       "    }\n",
       "</style>\n",
       "<table border=\"1\" class=\"dataframe\">\n",
       "  <thead>\n",
       "    <tr style=\"text-align: right;\">\n",
       "      <th></th>\n",
       "      <th>name</th>\n",
       "      <th>model_name</th>\n",
       "      <th>uuid</th>\n",
       "      <th>materials</th>\n",
       "      <th>current_print</th>\n",
       "      <th>saved_models</th>\n",
       "      <th>status</th>\n",
       "    </tr>\n",
       "  </thead>\n",
       "  <tbody>\n",
       "    <tr>\n",
       "      <th>0</th>\n",
       "      <td>Printer1</td>\n",
       "      <td>Prusa i3 MK3S+</td>\n",
       "      <td>a1b2c3d4-e5f6-7890-1234-567890abcdef</td>\n",
       "      <td>[{'type': 'PLA', 'colors': ['red', 'blue', 'gr...</td>\n",
       "      <td>{'model_name': 'benchy.gcode', 'progress': 75,...</td>\n",
       "      <td>[benchy.gcode, storage_box.gcode, mini_figure....</td>\n",
       "      <td>printing</td>\n",
       "    </tr>\n",
       "    <tr>\n",
       "      <th>1</th>\n",
       "      <td>Printer2</td>\n",
       "      <td>Ender 3 V2</td>\n",
       "      <td>f0e9d8c7-b6a5-4321-fedc-ba9876543210</td>\n",
       "      <td>[{'type': 'PLA', 'colors': ['white', 'grey']}]</td>\n",
       "      <td>None</td>\n",
       "      <td>[calibration_cube.gcode, phone_stand.gcode]</td>\n",
       "      <td>idle</td>\n",
       "    </tr>\n",
       "    <tr>\n",
       "      <th>2</th>\n",
       "      <td>Printer3</td>\n",
       "      <td>Photon Mono X</td>\n",
       "      <td>1a2b3c4d-5e6f-7080-90a0-b0c0d0e0f0g0</td>\n",
       "      <td>[{'type': 'Resin', 'colors': ['grey', 'clear']}]</td>\n",
       "      <td>{'model_name': 'resin_miniature.gcode', 'progr...</td>\n",
       "      <td>[resin_miniature.gcode, jewelry_mold.gcode]</td>\n",
       "      <td>completed</td>\n",
       "    </tr>\n",
       "    <tr>\n",
       "      <th>3</th>\n",
       "      <td>Printer4</td>\n",
       "      <td>LulzBot TAZ 6</td>\n",
       "      <td>abcdef01-2345-6789-abcd-ef0123456789</td>\n",
       "      <td>[{'type': 'ABS', 'colors': ['black']}, {'type'...</td>\n",
       "      <td>None</td>\n",
       "      <td>[prototype_part.gcode]</td>\n",
       "      <td>error</td>\n",
       "    </tr>\n",
       "  </tbody>\n",
       "</table>\n",
       "</div>"
      ],
      "text/plain": [
       "       name      model_name                                  uuid  \\\n",
       "0  Printer1  Prusa i3 MK3S+  a1b2c3d4-e5f6-7890-1234-567890abcdef   \n",
       "1  Printer2      Ender 3 V2  f0e9d8c7-b6a5-4321-fedc-ba9876543210   \n",
       "2  Printer3   Photon Mono X  1a2b3c4d-5e6f-7080-90a0-b0c0d0e0f0g0   \n",
       "3  Printer4   LulzBot TAZ 6  abcdef01-2345-6789-abcd-ef0123456789   \n",
       "\n",
       "                                           materials  \\\n",
       "0  [{'type': 'PLA', 'colors': ['red', 'blue', 'gr...   \n",
       "1     [{'type': 'PLA', 'colors': ['white', 'grey']}]   \n",
       "2   [{'type': 'Resin', 'colors': ['grey', 'clear']}]   \n",
       "3  [{'type': 'ABS', 'colors': ['black']}, {'type'...   \n",
       "\n",
       "                                       current_print  \\\n",
       "0  {'model_name': 'benchy.gcode', 'progress': 75,...   \n",
       "1                                               None   \n",
       "2  {'model_name': 'resin_miniature.gcode', 'progr...   \n",
       "3                                               None   \n",
       "\n",
       "                                        saved_models     status  \n",
       "0  [benchy.gcode, storage_box.gcode, mini_figure....   printing  \n",
       "1        [calibration_cube.gcode, phone_stand.gcode]       idle  \n",
       "2        [resin_miniature.gcode, jewelry_mold.gcode]  completed  \n",
       "3                             [prototype_part.gcode]      error  "
      ]
     },
     "execution_count": 11,
     "metadata": {},
     "output_type": "execute_result"
    }
   ],
   "source": [
    "data = pd.read_json('example.json')\n",
    "data.head()"
   ]
  },
  {
   "cell_type": "code",
   "execution_count": 10,
   "id": "8eae082c",
   "metadata": {},
   "outputs": [
    {
     "data": {
      "text/html": [
       "<div>\n",
       "<style scoped>\n",
       "    .dataframe tbody tr th:only-of-type {\n",
       "        vertical-align: middle;\n",
       "    }\n",
       "\n",
       "    .dataframe tbody tr th {\n",
       "        vertical-align: top;\n",
       "    }\n",
       "\n",
       "    .dataframe thead th {\n",
       "        text-align: right;\n",
       "    }\n",
       "</style>\n",
       "<table border=\"1\" class=\"dataframe\">\n",
       "  <thead>\n",
       "    <tr style=\"text-align: right;\">\n",
       "      <th></th>\n",
       "      <th>file_id</th>\n",
       "      <th>model_name</th>\n",
       "      <th>material</th>\n",
       "      <th>estimated_time</th>\n",
       "      <th>compatible_printers</th>\n",
       "    </tr>\n",
       "  </thead>\n",
       "  <tbody>\n",
       "    <tr>\n",
       "      <th>0</th>\n",
       "      <td>1a2b3c4d-e5f6-7890-1234-567890abcdef</td>\n",
       "      <td>benchy.gcode</td>\n",
       "      <td>PLA</td>\n",
       "      <td>2025-05-20 02:30:00</td>\n",
       "      <td>[Prusa i3 MK3S+, Creality Ender 3 V2]</td>\n",
       "    </tr>\n",
       "    <tr>\n",
       "      <th>1</th>\n",
       "      <td>f0e9d8c7-b6a5-4321-fedc-ba9876543210</td>\n",
       "      <td>storage_box.gcode</td>\n",
       "      <td>PLA</td>\n",
       "      <td>2025-05-20 05:45:00</td>\n",
       "      <td>[Prusa i3 MK3S+]</td>\n",
       "    </tr>\n",
       "    <tr>\n",
       "      <th>2</th>\n",
       "      <td>c1d2e3f4-a5b6-9870-1234-567890abcdef</td>\n",
       "      <td>mini_figure.gcode</td>\n",
       "      <td>PETG</td>\n",
       "      <td>2025-05-20 01:15:00</td>\n",
       "      <td>[Prusa i3 MK3S+]</td>\n",
       "    </tr>\n",
       "    <tr>\n",
       "      <th>3</th>\n",
       "      <td>b6a5f0e9-d8c7-4321-fedc-ba9876543210</td>\n",
       "      <td>calibration_cube.gcode</td>\n",
       "      <td>PLA</td>\n",
       "      <td>2025-05-20 00:45:00</td>\n",
       "      <td>[Creality Ender 3 V2]</td>\n",
       "    </tr>\n",
       "    <tr>\n",
       "      <th>4</th>\n",
       "      <td>98765432-10ab-cdef-0123-456789abcdef</td>\n",
       "      <td>phone_stand.gcode</td>\n",
       "      <td>PLA</td>\n",
       "      <td>2025-05-20 01:00:00</td>\n",
       "      <td>[Creality Ender 3 V2]</td>\n",
       "    </tr>\n",
       "  </tbody>\n",
       "</table>\n",
       "</div>"
      ],
      "text/plain": [
       "                                file_id              model_name material  \\\n",
       "0  1a2b3c4d-e5f6-7890-1234-567890abcdef            benchy.gcode      PLA   \n",
       "1  f0e9d8c7-b6a5-4321-fedc-ba9876543210       storage_box.gcode      PLA   \n",
       "2  c1d2e3f4-a5b6-9870-1234-567890abcdef       mini_figure.gcode     PETG   \n",
       "3  b6a5f0e9-d8c7-4321-fedc-ba9876543210  calibration_cube.gcode      PLA   \n",
       "4  98765432-10ab-cdef-0123-456789abcdef       phone_stand.gcode      PLA   \n",
       "\n",
       "       estimated_time                    compatible_printers  \n",
       "0 2025-05-20 02:30:00  [Prusa i3 MK3S+, Creality Ender 3 V2]  \n",
       "1 2025-05-20 05:45:00                       [Prusa i3 MK3S+]  \n",
       "2 2025-05-20 01:15:00                       [Prusa i3 MK3S+]  \n",
       "3 2025-05-20 00:45:00                  [Creality Ender 3 V2]  \n",
       "4 2025-05-20 01:00:00                  [Creality Ender 3 V2]  "
      ]
     },
     "execution_count": 10,
     "metadata": {},
     "output_type": "execute_result"
    }
   ],
   "source": [
    "print_models = pd.read_json('models.json')\n",
    "print_models.head()"
   ]
  },
  {
   "cell_type": "code",
   "execution_count": null,
   "id": "ef4d33e3",
   "metadata": {},
   "outputs": [],
   "source": []
  }
 ],
 "metadata": {
  "kernelspec": {
   "display_name": "tensorflow",
   "language": "python",
   "name": "python3"
  },
  "language_info": {
   "codemirror_mode": {
    "name": "ipython",
    "version": 3
   },
   "file_extension": ".py",
   "mimetype": "text/x-python",
   "name": "python",
   "nbconvert_exporter": "python",
   "pygments_lexer": "ipython3",
   "version": "3.12.5"
  }
 },
 "nbformat": 4,
 "nbformat_minor": 5
}
